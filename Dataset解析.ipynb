{
 "cells": [
  {
   "cell_type": "code",
   "execution_count": 25,
   "metadata": {},
   "outputs": [],
   "source": [
    "import tensorflow as tf"
   ]
  },
  {
   "cell_type": "code",
   "execution_count": 26,
   "metadata": {},
   "outputs": [
    {
     "name": "stdout",
     "output_type": "stream",
     "text": [
      "[[0.14931273 0.59960926 0.54064536 0.11018038 0.44797206 0.20157981\n",
      "  0.4445274  0.29683304 0.4123963  0.9808384 ]\n",
      " [0.30716383 0.84742737 0.93386865 0.05709505 0.08500385 0.946295\n",
      "  0.75879765 0.01500547 0.5739175  0.13863432]\n",
      " [0.37464046 0.40406072 0.25542998 0.7187786  0.52680266 0.97597396\n",
      "  0.7183683  0.95371044 0.3169049  0.19078422]\n",
      " [0.80299854 0.00694287 0.59149647 0.65345347 0.82918715 0.01916122\n",
      "  0.2519157  0.9239819  0.7360712  0.8578148 ]]\n"
     ]
    }
   ],
   "source": [
    "A = tf.random_uniform([4, 10])\n",
    "with tf.Session() as sess:\n",
    "    print(sess.run(A))"
   ]
  },
  {
   "cell_type": "code",
   "execution_count": 44,
   "metadata": {
    "scrolled": false
   },
   "outputs": [
    {
     "name": "stdout",
     "output_type": "stream",
     "text": [
      "[1.2668223 1.5430293 1.5826032 1.6435019 1.7769991 1.7318623 1.9284191\n",
      " 1.6804181 1.6565768 1.7340684]\n",
      "[1.8304217 1.800794  1.8863568 1.6032903 1.5590192 1.902115  1.0878397\n",
      " 1.154345  1.6320282 1.3001391]\n",
      "[1.0036924 1.1132706 1.0076623 1.3312702 1.1587626 1.8943193 1.1281784\n",
      " 1.0742587 1.043465  1.3209165]\n",
      "[1.423596  1.7239875 1.1898516 1.7671442 1.4093834 1.9489207 1.739722\n",
      " 1.5505733 1.1264507 1.1687012]\n"
     ]
    }
   ],
   "source": [
    "dataset1 = tf.data.Dataset.from_tensor_slices(A)\n",
    "dataset2 = dataset1.map(lambda x:x+1)\n",
    "\n",
    "i = dataset2.make_initializable_iterator()\n",
    "with tf.Session() as sess:\n",
    "    sess.run(i.initializer)\n",
    "    while True:\n",
    "        try:\n",
    "            print(sess.run(i.get_next()))\n",
    "        except:\n",
    "            break"
   ]
  },
  {
   "cell_type": "code",
   "execution_count": 50,
   "metadata": {},
   "outputs": [
    {
     "name": "stdout",
     "output_type": "stream",
     "text": [
      "0\n",
      "1\n",
      "2\n",
      "3\n",
      "4\n",
      "5\n",
      "6\n",
      "7\n",
      "8\n",
      "9\n"
     ]
    }
   ],
   "source": [
    "max_value = tf.placeholder(tf.int64, shape=[])\n",
    "dataset = tf.data.Dataset.range(max_value)\n",
    "i = dataset.make_initializable_iterator()\n",
    "\n",
    "with tf.Session() as sess:\n",
    "    sess.run(i.initializer,feed_dict={max_value:10})\n",
    "    while True:\n",
    "        try:\n",
    "            print(sess.run(i.get_next()))\n",
    "        except:\n",
    "            break\n",
    "        "
   ]
  },
  {
   "cell_type": "code",
   "execution_count": 46,
   "metadata": {
    "scrolled": true
   },
   "outputs": [
    {
     "name": "stdout",
     "output_type": "stream",
     "text": [
      "Help on function range in module tensorflow.python.data.ops.dataset_ops:\n",
      "\n",
      "range(*args)\n",
      "    Creates a `Dataset` of a step-separated range of values.\n",
      "    \n",
      "    For example:\n",
      "    \n",
      "    ```python\n",
      "    Dataset.range(5) == [0, 1, 2, 3, 4]\n",
      "    Dataset.range(2, 5) == [2, 3, 4]\n",
      "    Dataset.range(1, 5, 2) == [1, 3]\n",
      "    Dataset.range(1, 5, -2) == []\n",
      "    Dataset.range(5, 1) == []\n",
      "    Dataset.range(5, 1, -2) == [5, 3]\n",
      "    ```\n",
      "    \n",
      "    Args:\n",
      "      *args: follow same semantics as python's xrange.\n",
      "        len(args) == 1 -> start = 0, stop = args[0], step = 1\n",
      "        len(args) == 2 -> start = args[0], stop = args[1], step = 1\n",
      "        len(args) == 3 -> start = args[0], stop = args[1, stop = args[2]\n",
      "    \n",
      "    Returns:\n",
      "      Dataset: A `RangeDataset`.\n",
      "    \n",
      "    Raises:\n",
      "      ValueError: if len(args) == 0.\n",
      "\n"
     ]
    }
   ],
   "source": [
    "training_dataset = tf.data.Dataset.range(100).map(lambda x: x + tf.random_uniform([], -10, 10, tf.int64))\n",
    "validation_dataset = tf.data.Dataset.range(50)"
   ]
  },
  {
   "cell_type": "code",
   "execution_count": null,
   "metadata": {},
   "outputs": [],
   "source": [
    "training_dataset = tf.data.Dataset.range(100).map(lambda x: x + tf.random_uniform([], -10, 10, tf.int64)).repeat()\n",
    "validation_dataset = tf.data.Dataset.range(50)\n",
    "handle = tf.placeholder(tf.string, shape=[])\n",
    "iterator = tf.data.Iterator.from_string_handle(handle, training_dataset.output_types, training_dataset.output_shapes)\n",
    "\n",
    "next_element = iterator.get_next()\n",
    "\n",
    "\n",
    "training_iterator = training_dataset.make_one_shot_iterator()\n",
    "validation_iterator = validation_dataset.make_initializable_iterator()\n",
    "\n"
   ]
  },
  {
   "cell_type": "code",
   "execution_count": null,
   "metadata": {},
   "outputs": [],
   "source": [
    "tf.data.Iterator"
   ]
  },
  {
   "cell_type": "code",
   "execution_count": 60,
   "metadata": {},
   "outputs": [],
   "source": [
    "a=b='julyedu.com'"
   ]
  },
  {
   "cell_type": "code",
   "execution_count": 61,
   "metadata": {},
   "outputs": [
    {
     "data": {
      "text/plain": [
       "'julyedu.com'"
      ]
     },
     "execution_count": 61,
     "metadata": {},
     "output_type": "execute_result"
    }
   ],
   "source": [
    "a"
   ]
  },
  {
   "cell_type": "code",
   "execution_count": 63,
   "metadata": {},
   "outputs": [
    {
     "data": {
      "text/plain": [
       "'julyedu.com'"
      ]
     },
     "execution_count": 63,
     "metadata": {},
     "output_type": "execute_result"
    }
   ],
   "source": [
    "b"
   ]
  },
  {
   "cell_type": "code",
   "execution_count": 65,
   "metadata": {},
   "outputs": [
    {
     "data": {
      "text/plain": [
       "230993933552"
      ]
     },
     "execution_count": 65,
     "metadata": {},
     "output_type": "execute_result"
    }
   ],
   "source": [
    "id(a)"
   ]
  },
  {
   "cell_type": "code",
   "execution_count": 66,
   "metadata": {
    "scrolled": true
   },
   "outputs": [
    {
     "data": {
      "text/plain": [
       "230993933552"
      ]
     },
     "execution_count": 66,
     "metadata": {},
     "output_type": "execute_result"
    }
   ],
   "source": [
    "id(b)"
   ]
  },
  {
   "cell_type": "code",
   "execution_count": 89,
   "metadata": {},
   "outputs": [],
   "source": [
    "list1=[1,2,3,4,1]"
   ]
  },
  {
   "cell_type": "code",
   "execution_count": 93,
   "metadata": {},
   "outputs": [],
   "source": [
    "list1.remove(1)"
   ]
  },
  {
   "cell_type": "code",
   "execution_count": 94,
   "metadata": {},
   "outputs": [
    {
     "data": {
      "text/plain": [
       "[3, 4, 1]"
      ]
     },
     "execution_count": 94,
     "metadata": {},
     "output_type": "execute_result"
    }
   ],
   "source": [
    "list1"
   ]
  },
  {
   "cell_type": "code",
   "execution_count": 95,
   "metadata": {},
   "outputs": [],
   "source": [
    "def fun(arglist):\n",
    "    s = set(arglist)\n",
    "    for i in s:\n",
    "        count=0\n",
    "        for j in arglist:\n",
    "            if i==j:\n",
    "                count+=1\n",
    "        for _ in range(count-1):\n",
    "            arglist.remove(i)\n",
    "    return arglist"
   ]
  },
  {
   "cell_type": "code",
   "execution_count": 98,
   "metadata": {},
   "outputs": [
    {
     "name": "stdout",
     "output_type": "stream",
     "text": [
      "Help on built-in function fromkeys:\n",
      "\n",
      "fromkeys(iterable, value=None, /) method of builtins.type instance\n",
      "    Returns a new dict with keys from iterable and values equal to value.\n",
      "\n"
     ]
    }
   ],
   "source": [
    "help(dict.fromkeys)"
   ]
  }
 ],
 "metadata": {
  "anaconda-cloud": {},
  "kernelspec": {
   "display_name": "Python [default]",
   "language": "python",
   "name": "python3"
  },
  "language_info": {
   "codemirror_mode": {
    "name": "ipython",
    "version": 3
   },
   "file_extension": ".py",
   "mimetype": "text/x-python",
   "name": "python",
   "nbconvert_exporter": "python",
   "pygments_lexer": "ipython3",
   "version": "3.5.2"
  }
 },
 "nbformat": 4,
 "nbformat_minor": 2
}
