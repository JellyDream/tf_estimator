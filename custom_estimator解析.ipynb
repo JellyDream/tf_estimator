{
 "cells": [
  {
   "cell_type": "code",
   "execution_count": 7,
   "metadata": {},
   "outputs": [],
   "source": [
    "import tensorflow as tf\n",
    "import pandas as pd\n",
    "\n",
    "CSV_COLUMN_NAMES = ['SepalLength', 'SepalWidth', 'PetalLength', 'PetalWidth', 'Species']\n",
    "SPECIES = ['Setosa', 'Versicolor', 'Virginica']"
   ]
  },
  {
   "cell_type": "code",
   "execution_count": 3,
   "metadata": {},
   "outputs": [],
   "source": [
    "def my_model(features, labels, mode, params):\n",
    "    # 网络结构\n",
    "    net = tf.feature_column.input_layer(features, params['feature_columns'])\n",
    "    for units in params['hidden_units']:\n",
    "        net = tf.layers.dense(net, units=units, activation=tf.nn.relu)\n",
    "\n",
    "    # Compute logits (1 per class).\n",
    "    logits = tf.layers.dense(net, params['n_classes'], activation=None)\n",
    "\n",
    "    # Compute predictions.\n",
    "    predicted_classes = tf.argmax(logits, 1)\n",
    "    if mode == tf.estimator.ModeKeys.PREDICT:\n",
    "        predictions = {\n",
    "            'class_ids': predicted_classes[:, tf.newaxis],\n",
    "            'probabilities': tf.nn.softmax(logits),\n",
    "            'logits': logits,\n",
    "        }\n",
    "        return tf.estimator.EstimatorSpec(mode, predictions=predictions)\n",
    "\n",
    "    # Compute loss.\n",
    "    loss = tf.losses.sparse_softmax_cross_entropy(labels=labels, logits=logits)\n",
    "\n",
    "    # Compute evaluation metrics.\n",
    "    accuracy = tf.metrics.accuracy(labels=labels,\n",
    "                                   predictions=predicted_classes,\n",
    "                                   name='acc_op')\n",
    "    metrics = {'accuracy': accuracy}\n",
    "    tf.summary.scalar('accuracy', accuracy[1])\n",
    "\n",
    "    if mode == tf.estimator.ModeKeys.EVAL:\n",
    "        return tf.estimator.EstimatorSpec(mode, loss=loss, eval_metric_ops=metrics)\n",
    "\n",
    "    # Create training op.\n",
    "    assert mode == tf.estimator.ModeKeys.TRAIN\n",
    "\n",
    "    optimizer = tf.train.AdagradOptimizer(learning_rate=0.1)\n",
    "    train_op = optimizer.minimize(loss, global_step=tf.train.get_global_step())\n",
    "    return tf.estimator.EstimatorSpec(mode, loss=loss, train_op=train_op)"
   ]
  },
  {
   "cell_type": "code",
   "execution_count": 8,
   "metadata": {},
   "outputs": [],
   "source": [
    "def load_data(y_name='Species'):\n",
    "    train_path = '../data/iris_training.csv'\n",
    "    test_path = '../data/iris_test.csv'\n",
    "    train = pd.read_csv(train_path, names=CSV_COLUMN_NAMES, header=0)\n",
    "    train_x, train_y = train, train.pop(y_name)\n",
    "    test = pd.read_csv(test_path, names=CSV_COLUMN_NAMES, header=0)\n",
    "    test_x, test_y = test, test.pop(y_name)\n",
    "    \n",
    "    return (train_x, train_y), (test_x, test_y)\n",
    "\n",
    "(train_x, train_y), (test_x, test_y) = load_data()\n",
    "my_feature_columns = []\n",
    "for key in train_x.keys():\n",
    "        my_feature_columns.append(tf.feature_column.numeric_column(key=key))"
   ]
  },
  {
   "cell_type": "code",
   "execution_count": 10,
   "metadata": {},
   "outputs": [],
   "source": [
    "def train_input_fn(features,labels,batch_size):\n",
    "    dataset = tf.data.Dataset.from_tensor_slices((dict(features), labels))\n",
    "    dataset = dataset.shuffle(1000).repeat().batch(batch_size)\n",
    "    return dataset.make_one_shot_iterator().get_next()\n",
    "\n",
    "def eval_input_fn(features, labels, batch_size):\n",
    "    \"\"\"An input function for evaluation or prediction\"\"\"\n",
    "    features=dict(features)\n",
    "    if labels is None:\n",
    "        # No labels, use only features.\n",
    "        inputs = features\n",
    "    else:\n",
    "        inputs = (features, labels)\n",
    "\n",
    "    # Convert the inputs to a Dataset.\n",
    "    dataset = tf.data.Dataset.from_tensor_slices(inputs)\n",
    "\n",
    "    # Batch the examples\n",
    "    assert batch_size is not None, \"batch_size must not be None\"\n",
    "    dataset = dataset.batch(batch_size)\n",
    "\n",
    "    # Return the dataset.\n",
    "    return dataset"
   ]
  },
  {
   "cell_type": "code",
   "execution_count": 9,
   "metadata": {},
   "outputs": [
    {
     "name": "stdout",
     "output_type": "stream",
     "text": [
      "INFO:tensorflow:Using default config.\n",
      "INFO:tensorflow:Using config: {'_global_id_in_cluster': 0, '_evaluation_master': '', '_task_type': 'worker', '_task_id': 0, '_master': '', '_log_step_count_steps': 100, '_save_checkpoints_steps': None, '_session_config': None, '_save_summary_steps': 100, '_keep_checkpoint_every_n_hours': 10000, '_model_dir': './custom_logs', '_tf_random_seed': None, '_cluster_spec': <tensorflow.python.training.server_lib.ClusterSpec object at 0x000000309BEF3BE0>, '_service': None, '_num_worker_replicas': 1, '_save_checkpoints_secs': 600, '_keep_checkpoint_max': 5, '_num_ps_replicas': 0, '_is_chief': True}\n"
     ]
    }
   ],
   "source": [
    "classifier = tf.estimator.Estimator(\n",
    "    model_fn=my_model,\n",
    "    model_dir = './custom_logs',\n",
    "    params={\n",
    "        'feature_columns': my_feature_columns,\n",
    "        # Two hidden layers of 10 nodes each.\n",
    "        'hidden_units': [10, 10],\n",
    "        # The model must choose between 3 classes.\n",
    "        'n_classes': 3,\n",
    "    })"
   ]
  },
  {
   "cell_type": "code",
   "execution_count": 13,
   "metadata": {
    "scrolled": true
   },
   "outputs": [
    {
     "name": "stdout",
     "output_type": "stream",
     "text": [
      "INFO:tensorflow:Calling model_fn.\n",
      "INFO:tensorflow:Done calling model_fn.\n",
      "INFO:tensorflow:Create CheckpointSaverHook.\n",
      "INFO:tensorflow:Graph was finalized.\n",
      "INFO:tensorflow:Restoring parameters from ./custom_logs\\model.ckpt-1000\n",
      "INFO:tensorflow:Running local_init_op.\n",
      "INFO:tensorflow:Done running local_init_op.\n",
      "INFO:tensorflow:Saving checkpoints for 1001 into ./custom_logs\\model.ckpt.\n",
      "INFO:tensorflow:loss = 0.06206132, step = 1000\n",
      "INFO:tensorflow:global_step/sec: 399.736\n",
      "INFO:tensorflow:loss = 0.024732469, step = 1100 (0.254 sec)\n",
      "INFO:tensorflow:global_step/sec: 514.492\n",
      "INFO:tensorflow:loss = 0.051306788, step = 1200 (0.192 sec)\n",
      "INFO:tensorflow:global_step/sec: 562.736\n",
      "INFO:tensorflow:loss = 0.05293573, step = 1300 (0.178 sec)\n",
      "INFO:tensorflow:global_step/sec: 625.242\n",
      "INFO:tensorflow:loss = 0.07312765, step = 1400 (0.159 sec)\n",
      "INFO:tensorflow:global_step/sec: 628.329\n",
      "INFO:tensorflow:loss = 0.03292082, step = 1500 (0.160 sec)\n",
      "INFO:tensorflow:global_step/sec: 630.307\n",
      "INFO:tensorflow:loss = 0.05292317, step = 1600 (0.159 sec)\n",
      "INFO:tensorflow:global_step/sec: 640.349\n",
      "INFO:tensorflow:loss = 0.021269701, step = 1700 (0.156 sec)\n",
      "INFO:tensorflow:global_step/sec: 631.82\n",
      "INFO:tensorflow:loss = 0.026168259, step = 1800 (0.158 sec)\n",
      "INFO:tensorflow:global_step/sec: 646.794\n",
      "INFO:tensorflow:loss = 0.056826793, step = 1900 (0.155 sec)\n",
      "INFO:tensorflow:Saving checkpoints for 2000 into ./custom_logs\\model.ckpt.\n",
      "INFO:tensorflow:Loss for final step: 0.044219244.\n"
     ]
    }
   ],
   "source": [
    "classifier.train(\n",
    "        input_fn=lambda:train_input_fn(train_x, train_y, 100),\n",
    "        steps=1000)"
   ]
  },
  {
   "cell_type": "code",
   "execution_count": 19,
   "metadata": {},
   "outputs": [
    {
     "name": "stdout",
     "output_type": "stream",
     "text": [
      "Help on method predict in module tensorflow.python.estimator.estimator:\n",
      "\n",
      "predict(input_fn, predict_keys=None, hooks=None, checkpoint_path=None, yield_single_examples=True) method of tensorflow.python.estimator.estimator.Estimator instance\n",
      "    Yields predictions for given features.\n",
      "    \n",
      "    Args:\n",
      "      input_fn: A function that constructs the features. Prediction continues\n",
      "        until `input_fn` raises an end-of-input exception (`OutOfRangeError` or\n",
      "        `StopIteration`).\n",
      "        See @{$get_started/premade_estimators#create_input_functions} for more\n",
      "        information. The function should construct and return one of\n",
      "        the following:\n",
      "    \n",
      "          * A 'tf.data.Dataset' object: Outputs of `Dataset` object must have\n",
      "            same constraints as below.\n",
      "          * features: A `Tensor` or a dictionary of string feature name to\n",
      "            `Tensor`. features are consumed by `model_fn`. They should satisfy\n",
      "            the expectation of `model_fn` from inputs.\n",
      "          * A tuple, in which case the first item is extracted as features.\n",
      "    \n",
      "      predict_keys: list of `str`, name of the keys to predict. It is used if\n",
      "        the `EstimatorSpec.predictions` is a `dict`. If `predict_keys` is used\n",
      "        then rest of the predictions will be filtered from the dictionary. If\n",
      "        `None`, returns all.\n",
      "      hooks: List of `SessionRunHook` subclass instances. Used for callbacks\n",
      "        inside the prediction call.\n",
      "      checkpoint_path: Path of a specific checkpoint to predict. If `None`, the\n",
      "        latest checkpoint in `model_dir` is used.\n",
      "      yield_single_examples: If False, yield the whole batch as returned by the\n",
      "        model_fn instead of decomposing the batch into individual elements. This\n",
      "        is useful if model_fn return some tensor with first dimension not\n",
      "        equal to the batch size\n",
      "    \n",
      "    Yields:\n",
      "      Evaluated values of `predictions` tensors.\n",
      "    \n",
      "    Raises:\n",
      "      ValueError: Could not find a trained model in model_dir.\n",
      "      ValueError: if batch length of predictions are not same and\n",
      "        yield_single_examples is True.\n",
      "      ValueError: If there is a conflict between `predict_keys` and\n",
      "        `predictions`. For example if `predict_keys` is not `None` but\n",
      "        `EstimatorSpec.predictions` is not a `dict`.\n",
      "\n"
     ]
    }
   ],
   "source": [
    "help(classifier.predict)"
   ]
  },
  {
   "cell_type": "code",
   "execution_count": 14,
   "metadata": {
    "scrolled": true
   },
   "outputs": [
    {
     "data": {
      "text/plain": [
       "['__add__',\n",
       " '__class__',\n",
       " '__contains__',\n",
       " '__delattr__',\n",
       " '__dict__',\n",
       " '__dir__',\n",
       " '__doc__',\n",
       " '__eq__',\n",
       " '__format__',\n",
       " '__ge__',\n",
       " '__getattribute__',\n",
       " '__getitem__',\n",
       " '__getnewargs__',\n",
       " '__gt__',\n",
       " '__hash__',\n",
       " '__init__',\n",
       " '__iter__',\n",
       " '__le__',\n",
       " '__len__',\n",
       " '__lt__',\n",
       " '__module__',\n",
       " '__mul__',\n",
       " '__ne__',\n",
       " '__new__',\n",
       " '__reduce__',\n",
       " '__reduce_ex__',\n",
       " '__repr__',\n",
       " '__rmul__',\n",
       " '__setattr__',\n",
       " '__sizeof__',\n",
       " '__slots__',\n",
       " '__str__',\n",
       " '__subclasshook__',\n",
       " '_asdict',\n",
       " '_fields',\n",
       " '_make',\n",
       " '_replace',\n",
       " '_source',\n",
       " '_tf_api_names',\n",
       " 'count',\n",
       " 'eval_metric_ops',\n",
       " 'evaluation_hooks',\n",
       " 'export_outputs',\n",
       " 'index',\n",
       " 'loss',\n",
       " 'mode',\n",
       " 'prediction_hooks',\n",
       " 'predictions',\n",
       " 'scaffold',\n",
       " 'train_op',\n",
       " 'training_chief_hooks',\n",
       " 'training_hooks']"
      ]
     },
     "execution_count": 14,
     "metadata": {},
     "output_type": "execute_result"
    }
   ],
   "source": [
    "dir(tf.estimator.EstimatorSpec)"
   ]
  }
 ],
 "metadata": {
  "anaconda-cloud": {},
  "kernelspec": {
   "display_name": "Python [default]",
   "language": "python",
   "name": "python3"
  },
  "language_info": {
   "codemirror_mode": {
    "name": "ipython",
    "version": 3
   },
   "file_extension": ".py",
   "mimetype": "text/x-python",
   "name": "python",
   "nbconvert_exporter": "python",
   "pygments_lexer": "ipython3",
   "version": "3.5.2"
  }
 },
 "nbformat": 4,
 "nbformat_minor": 2
}
