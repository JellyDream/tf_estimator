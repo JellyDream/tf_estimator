{
 "cells": [
  {
   "cell_type": "code",
   "execution_count": 1,
   "metadata": {},
   "outputs": [
    {
     "name": "stderr",
     "output_type": "stream",
     "text": [
      "e:\\anaconda3\\lib\\site-packages\\h5py\\__init__.py:34: FutureWarning: Conversion of the second argument of issubdtype from `float` to `np.floating` is deprecated. In future, it will be treated as `np.float64 == np.dtype(float).type`.\n",
      "  from ._conv import register_converters as _register_converters\n"
     ]
    }
   ],
   "source": [
    "import tensorflow as tf\n",
    "import pandas as pd\n",
    "\n",
    "CSV_COLUMN_NAMES = ['SepalLength', 'SepalWidth', 'PetalLength', 'PetalWidth', 'Species']\n",
    "SPECIES = ['Setosa', 'Versicolor', 'Virginica']\n",
    "\n",
    "# 加载数据\n",
    "def load_data(y_name='Species'):\n",
    "    train_path = '../data/iris_training.csv'\n",
    "    test_path = '../data/iris_test.csv'\n",
    "    train = pd.read_csv(train_path, names=CSV_COLUMN_NAMES, header=0)\n",
    "    train_x, train_y = train, train.pop(y_name)\n",
    "    test = pd.read_csv(test_path, names=CSV_COLUMN_NAMES, header=0)\n",
    "    test_x, test_y = test, test.pop(y_name)\n",
    "    \n",
    "    return (train_x, train_y), (test_x, test_y)\n",
    "\n",
    "\n",
    "# 构建feature columns\n",
    "(train_x, train_y), (test_x, test_y) = load_data()\n",
    "my_feature_columns = []\n",
    "for key in train_x.keys():\n",
    "        my_feature_columns.append(tf.feature_column.numeric_column(key=key))\n",
    "        \n",
    "# input_fn\n",
    "def train_input_fn(features,labels,batch_size):\n",
    "    dataset = tf.data.Dataset.from_tensor_slices((dict(features), labels))\n",
    "    dataset = dataset.shuffle(1000).repeat().batch(batch_size)\n",
    "    return dataset.make_one_shot_iterator().get_next()\n",
    "\n",
    "def eval_input_fn(features, labels, batch_size):\n",
    "    \"\"\"An input function for evaluation or prediction\"\"\"\n",
    "    features=dict(features)\n",
    "    if labels is None:\n",
    "        # No labels, use only features.\n",
    "        inputs = features\n",
    "    else:\n",
    "        inputs = (features, labels)\n",
    "\n",
    "    # Convert the inputs to a Dataset.\n",
    "    dataset = tf.data.Dataset.from_tensor_slices(inputs)\n",
    "\n",
    "    # Batch the examples\n",
    "    assert batch_size is not None, \"batch_size must not be None\"\n",
    "    dataset = dataset.batch(batch_size)\n",
    "\n",
    "    # Return the dataset.\n",
    "    return dataset"
   ]
  },
  {
   "cell_type": "code",
   "execution_count": 2,
   "metadata": {
    "scrolled": true
   },
   "outputs": [
    {
     "name": "stdout",
     "output_type": "stream",
     "text": [
      "INFO:tensorflow:Using config: {'_evaluation_master': '', '_cluster_spec': <tensorflow.python.training.server_lib.ClusterSpec object at 0x000000356629F9B0>, '_service': None, '_session_config': None, '_task_id': 0, '_log_step_count_steps': 100, '_master': '', '_keep_checkpoint_max': 10, '_save_checkpoints_steps': None, '_tf_random_seed': None, '_model_dir': './logs', '_task_type': 'worker', '_save_checkpoints_secs': 1, '_num_worker_replicas': 1, '_is_chief': True, '_save_summary_steps': 100, '_global_id_in_cluster': 0, '_num_ps_replicas': 0, '_keep_checkpoint_every_n_hours': 10000}\n"
     ]
    }
   ],
   "source": [
    "my_checkpointing_config = tf.estimator.RunConfig(\n",
    "    save_checkpoints_secs = 1,  # Save checkpoints every 20 minutes.\n",
    "    keep_checkpoint_max = 10,       # Retain the 10 most recent checkpoints.\n",
    ")\n",
    "\n",
    "classifier = tf.estimator.DNNClassifier(\n",
    "        feature_columns=my_feature_columns,\n",
    "        # Two hidden layers of 10 nodes each.\n",
    "        hidden_units=[8, 10],\n",
    "        # The model must choose between 3 classes.\n",
    "        n_classes=3,\n",
    "        model_dir = './logs',\n",
    "        config=my_checkpointing_config)\n"
   ]
  },
  {
   "cell_type": "code",
   "execution_count": 3,
   "metadata": {
    "scrolled": true
   },
   "outputs": [
    {
     "name": "stdout",
     "output_type": "stream",
     "text": [
      "INFO:tensorflow:Calling model_fn.\n",
      "INFO:tensorflow:Done calling model_fn.\n",
      "INFO:tensorflow:Create CheckpointSaverHook.\n",
      "INFO:tensorflow:Graph was finalized.\n",
      "INFO:tensorflow:Running local_init_op.\n",
      "INFO:tensorflow:Done running local_init_op.\n",
      "INFO:tensorflow:Saving checkpoints for 1 into ./logs\\model.ckpt.\n",
      "INFO:tensorflow:step = 0, loss = 164.56326\n",
      "INFO:tensorflow:global_step/sec: 267.734\n",
      "INFO:tensorflow:step = 100, loss = 25.176874 (0.376 sec)\n",
      "INFO:tensorflow:global_step/sec: 386.344\n",
      "INFO:tensorflow:step = 200, loss = 12.988299 (0.259 sec)\n",
      "INFO:tensorflow:Saving checkpoints for 213 into ./logs\\model.ckpt.\n",
      "INFO:tensorflow:global_step/sec: 173.115\n",
      "INFO:tensorflow:step = 300, loss = 8.41159 (0.578 sec)\n",
      "INFO:tensorflow:global_step/sec: 386.664\n",
      "INFO:tensorflow:step = 400, loss = 8.126438 (0.259 sec)\n",
      "INFO:tensorflow:Saving checkpoints for 496 into ./logs\\model.ckpt.\n",
      "INFO:tensorflow:global_step/sec: 129.119\n",
      "INFO:tensorflow:step = 500, loss = 7.6150527 (0.773 sec)\n",
      "INFO:tensorflow:global_step/sec: 527.907\n",
      "INFO:tensorflow:step = 600, loss = 6.8772645 (0.189 sec)\n",
      "INFO:tensorflow:global_step/sec: 519.457\n",
      "INFO:tensorflow:step = 700, loss = 6.9380913 (0.192 sec)\n",
      "INFO:tensorflow:Saving checkpoints for 723 into ./logs\\model.ckpt.\n",
      "INFO:tensorflow:global_step/sec: 127.366\n",
      "INFO:tensorflow:step = 800, loss = 5.8751945 (0.786 sec)\n",
      "INFO:tensorflow:Saving checkpoints for 901 into ./logs\\model.ckpt.\n",
      "INFO:tensorflow:global_step/sec: 172.529\n",
      "INFO:tensorflow:step = 900, loss = 6.6566205 (0.584 sec)\n",
      "INFO:tensorflow:Saving checkpoints for 1000 into ./logs\\model.ckpt.\n",
      "INFO:tensorflow:Loss for final step: 6.225922.\n"
     ]
    },
    {
     "data": {
      "text/plain": [
       "<tensorflow.python.estimator.canned.dnn.DNNClassifier at 0x356629f7f0>"
      ]
     },
     "execution_count": 3,
     "metadata": {},
     "output_type": "execute_result"
    }
   ],
   "source": [
    "classifier.train(\n",
    "    input_fn=lambda:train_input_fn(train_x, train_y, 100),\n",
    "    steps=1000)"
   ]
  },
  {
   "cell_type": "code",
   "execution_count": 4,
   "metadata": {
    "scrolled": false
   },
   "outputs": [
    {
     "name": "stdout",
     "output_type": "stream",
     "text": [
      "INFO:tensorflow:Calling model_fn.\n",
      "INFO:tensorflow:Done calling model_fn.\n",
      "INFO:tensorflow:Starting evaluation at 2018-04-14-14:11:40\n",
      "INFO:tensorflow:Graph was finalized.\n",
      "INFO:tensorflow:Restoring parameters from ./logs\\model.ckpt-1000\n",
      "INFO:tensorflow:Running local_init_op.\n",
      "INFO:tensorflow:Done running local_init_op.\n",
      "INFO:tensorflow:Finished evaluation at 2018-04-14-14:11:41\n",
      "INFO:tensorflow:Saving dict for global step 1000: accuracy = 0.96666664, average_loss = 0.053858127, global_step = 1000, loss = 1.6157439\n"
     ]
    }
   ],
   "source": [
    "eval_result = classifier.evaluate(\n",
    "    input_fn=lambda:eval_input_fn(test_x, test_y, 100))"
   ]
  },
  {
   "cell_type": "code",
   "execution_count": 6,
   "metadata": {
    "scrolled": true
   },
   "outputs": [],
   "source": [
    "expected = ['Setosa', 'Versicolor', 'Virginica']\n",
    "predict_x = {\n",
    "    'SepalLength': [5.1, 5.9, 6.9],\n",
    "    'SepalWidth': [3.3, 3.0, 3.1],\n",
    "    'PetalLength': [1.7, 4.2, 5.4],\n",
    "    'PetalWidth': [0.5, 1.5, 2.1],\n",
    "}\n",
    "\n",
    "predictions = classifier.predict(\n",
    "    input_fn=lambda:eval_input_fn(predict_x, labels=None, batch_size=100))"
   ]
  },
  {
   "cell_type": "code",
   "execution_count": 8,
   "metadata": {
    "scrolled": true
   },
   "outputs": [
    {
     "name": "stdout",
     "output_type": "stream",
     "text": [
      "INFO:tensorflow:Calling model_fn.\n",
      "INFO:tensorflow:Done calling model_fn.\n",
      "INFO:tensorflow:Graph was finalized.\n",
      "INFO:tensorflow:Restoring parameters from ./logs\\model.ckpt-1000\n",
      "INFO:tensorflow:Running local_init_op.\n",
      "INFO:tensorflow:Done running local_init_op.\n"
     ]
    },
    {
     "data": {
      "text/plain": [
       "[{'class_ids': array([0], dtype=int64),\n",
       "  'classes': array([b'0'], dtype=object),\n",
       "  'logits': array([ 14.055865,   8.990452, -17.106209], dtype=float32),\n",
       "  'probabilities': array([9.937283e-01, 6.271718e-03, 2.909045e-14], dtype=float32)},\n",
       " {'class_ids': array([1], dtype=int64),\n",
       "  'classes': array([b'1'], dtype=object),\n",
       "  'logits': array([-1.6522006 ,  5.7732453 , -0.15836635], dtype=float32),\n",
       "  'probabilities': array([5.9396459e-04, 9.9676043e-01, 2.6456027e-03], dtype=float32)},\n",
       " {'class_ids': array([2], dtype=int64),\n",
       "  'classes': array([b'2'], dtype=object),\n",
       "  'logits': array([-7.899126 ,  4.509861 ,  7.5360513], dtype=float32),\n",
       "  'probabilities': array([1.8880753e-07, 4.6256598e-02, 9.5374316e-01], dtype=float32)}]"
      ]
     },
     "execution_count": 8,
     "metadata": {},
     "output_type": "execute_result"
    }
   ],
   "source": [
    "list(predictions)"
   ]
  },
  {
   "cell_type": "code",
   "execution_count": 16,
   "metadata": {},
   "outputs": [
    {
     "data": {
      "text/plain": [
       "array([[-10.,  -9.,  -8.,  -7.,  -6.],\n",
       "       [ -5.,  -4.,  -3.,  -2.,  -1.],\n",
       "       [  0.,   1.,   2.,   3.,   4.],\n",
       "       [  5.,   6.,   7.,   8.,   9.]], dtype=float32)"
      ]
     },
     "execution_count": 16,
     "metadata": {},
     "output_type": "execute_result"
    }
   ],
   "source": [
    "import numpy as np\n",
    "B = np.arange(-10,10).reshape(-1,5).astype(np.float32)\n",
    "B"
   ]
  },
  {
   "cell_type": "code",
   "execution_count": 17,
   "metadata": {},
   "outputs": [
    {
     "name": "stdout",
     "output_type": "stream",
     "text": [
      "[[0.01165623 0.03168492 0.08612854 0.23412165 0.6364086 ]\n",
      " [0.01165623 0.03168492 0.08612854 0.23412165 0.6364086 ]\n",
      " [0.01165623 0.03168492 0.08612854 0.23412165 0.6364086 ]\n",
      " [0.01165623 0.03168492 0.08612854 0.23412165 0.6364086 ]]\n"
     ]
    }
   ],
   "source": [
    "import tensorflow as tf\n",
    "with tf.Session() as sess:\n",
    "    A = sess.run(tf.nn.softmax(B))\n",
    "    print(A)"
   ]
  },
  {
   "cell_type": "code",
   "execution_count": 77,
   "metadata": {
    "scrolled": true
   },
   "outputs": [
    {
     "name": "stdout",
     "output_type": "stream",
     "text": [
      "INFO:tensorflow:Calling model_fn.\n",
      "INFO:tensorflow:Done calling model_fn.\n",
      "INFO:tensorflow:Graph was finalized.\n",
      "INFO:tensorflow:Restoring parameters from ./logs\\model.ckpt-1000\n",
      "INFO:tensorflow:Running local_init_op.\n",
      "INFO:tensorflow:Done running local_init_op.\n",
      "\n",
      "Prediction is \"Setosa\" (99.7%), expected \"Setosa\"\n",
      "\n",
      "Prediction is \"Versicolor\" (99.6%), expected \"Versicolor\"\n",
      "\n",
      "Prediction is \"Virginica\" (98.2%), expected \"Virginica\"\n"
     ]
    }
   ],
   "source": [
    "for pred_dict, expec in zip(predictions, expected):\n",
    "    template = ('\\nPrediction is \"{}\" ({:.1f}%), expected \"{}\"')\n",
    "\n",
    "    class_id = pred_dict['class_ids'][0]\n",
    "    probability = pred_dict['probabilities'][class_id]\n",
    "\n",
    "    print(template.format(SPECIES[class_id], 100 * probability, expec))\n",
    "    "
   ]
  }
 ],
 "metadata": {
  "anaconda-cloud": {},
  "kernelspec": {
   "display_name": "Python [default]",
   "language": "python",
   "name": "python3"
  },
  "language_info": {
   "codemirror_mode": {
    "name": "ipython",
    "version": 3
   },
   "file_extension": ".py",
   "mimetype": "text/x-python",
   "name": "python",
   "nbconvert_exporter": "python",
   "pygments_lexer": "ipython3",
   "version": "3.5.2"
  }
 },
 "nbformat": 4,
 "nbformat_minor": 2
}
